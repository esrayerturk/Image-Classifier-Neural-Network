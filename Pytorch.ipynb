{
  "nbformat": 4,
  "nbformat_minor": 0,
  "metadata": {
    "colab": {
      "provenance": []
    },
    "kernelspec": {
      "name": "python3",
      "display_name": "Python 3"
    },
    "language_info": {
      "name": "python"
    }
  },
  "cells": [
    {
      "cell_type": "code",
      "execution_count": 6,
      "metadata": {
        "colab": {
          "base_uri": "https://localhost:8080/"
        },
        "id": "QuB46WlVuvPz",
        "outputId": "bd7ca63e-e6fd-425e-d7b2-9066001c93c7"
      },
      "outputs": [
        {
          "output_type": "stream",
          "name": "stdout",
          "text": [
            "Epoch:0 loss is 0.023627182468771935\n",
            "Epoch:1 loss is 0.0011317746248096228\n",
            "Epoch:2 loss is 0.0003202045918442309\n",
            "Epoch:3 loss is 0.0003820345737040043\n",
            "Epoch:4 loss is 0.00013877030869480222\n",
            "Epoch:5 loss is 4.081029328517616e-05\n",
            "Epoch:6 loss is 4.710096982307732e-05\n",
            "Epoch:7 loss is 6.233017484191805e-05\n",
            "Epoch:8 loss is 0.0018645740346983075\n",
            "Epoch:9 loss is 0.001552947680465877\n"
          ]
        },
        {
          "output_type": "stream",
          "name": "stderr",
          "text": [
            "<ipython-input-6-be9086775c1b>:62: FutureWarning: You are using `torch.load` with `weights_only=False` (the current default value), which uses the default pickle module implicitly. It is possible to construct malicious pickle data which will execute arbitrary code during unpickling (See https://github.com/pytorch/pytorch/blob/main/SECURITY.md#untrusted-models for more details). In a future release, the default value for `weights_only` will be flipped to `True`. This limits the functions that could be executed during unpickling. Arbitrary objects will no longer be allowed to be loaded via this mode unless they are explicitly allowlisted by the user via `torch.serialization.add_safe_globals`. We recommend you start setting `weights_only=True` for any use case where you don't have full control of the loaded file. Please open an issue on GitHub for any issues related to this experimental feature.\n",
            "  clf.load_state_dict(load(f))\n"
          ]
        }
      ],
      "source": [
        "# Import dependencies\n",
        "import torch\n",
        "from PIL import Image\n",
        "from torch import nn, save, load\n",
        "from torch.optim import Adam\n",
        "from torch.utils.data import DataLoader\n",
        "from torchvision import datasets\n",
        "from torchvision.transforms import ToTensor\n",
        "\n",
        "# Get data\n",
        "train = datasets.MNIST(root=\"data\", download=True, train=True, transform=ToTensor())\n",
        "dataset = DataLoader(train, 32)\n",
        "#1,28,28 - classes 0-9\n",
        "\n",
        "# Image Classifier Neural Network\n",
        "class ImageClassifier(nn.Module):\n",
        "    def __init__(self):\n",
        "        super().__init__()\n",
        "        self.model = nn.Sequential(\n",
        "            nn.Conv2d(1, 32, (3,3)),\n",
        "            nn.ReLU(),\n",
        "            nn.Conv2d(32, 64, (3,3)),\n",
        "            nn.ReLU(),\n",
        "            nn.Conv2d(64, 64, (3,3)),\n",
        "            nn.ReLU(),\n",
        "            nn.Flatten(),\n",
        "            nn.Linear(64*(28-6)*(28-6), 10)\n",
        "        )\n",
        "\n",
        "    def forward(self, x):\n",
        "        return self.model(x)\n",
        "\n",
        "# Instance of the neural network, loss, optimizer\n",
        "# Changed device to 'cpu' if CUDA is not available\n",
        "device = torch.device('cuda' if torch.cuda.is_available() else 'cpu')\n",
        "clf = ImageClassifier().to(device)\n",
        "opt = Adam(clf.parameters(), lr=1e-3)\n",
        "loss_fn = nn.CrossEntropyLoss()\n",
        "\n",
        "# Training flow\n",
        "if __name__ == \"__main__\":\n",
        "    for epoch in range(10): # train for 10 epochs\n",
        "        for batch in dataset:\n",
        "            X,y = batch\n",
        "            # Move X and y to the selected device (CPU or GPU)\n",
        "            X, y = X.to(device), y.to(device)\n",
        "            yhat = clf(X)\n",
        "            loss = loss_fn(yhat, y)\n",
        "\n",
        "\n",
        "            # Apply backprop\n",
        "            opt.zero_grad()\n",
        "            loss.backward()\n",
        "            opt.step()\n",
        "\n",
        "        print(f\"Epoch:{epoch} loss is {loss.item()}\")\n",
        "\n",
        "    with open('model_state.pt', 'wb') as f:\n",
        "        save(clf.state_dict(), f)\n",
        "\n",
        "    with open('model_state.pt', 'rb') as f:\n",
        "        clf.load_state_dict(load(f))"
      ]
    },
    {
      "cell_type": "code",
      "source": [
        "#img = Image.open('img_3.jpg')\n",
        "#img_tensor = ToTensor()(img).unsqueeze(0).to('cuda')\n",
        "\n",
        "#print(torch.argmax(clf(img_tensor)))\n",
        "\n",
        "# Change the device to 'cpu'\n",
        "img_tensor = ToTensor()(img).unsqueeze(0).to('cpu')\n",
        "\n",
        "print(torch.argmax(clf(img_tensor)))"
      ],
      "metadata": {
        "colab": {
          "base_uri": "https://localhost:8080/"
        },
        "id": "QQZ7yfns9sYf",
        "outputId": "dddde0b2-d193-43dd-b2ab-2d5d3af06b5e"
      },
      "execution_count": 9,
      "outputs": [
        {
          "output_type": "stream",
          "name": "stdout",
          "text": [
            "tensor(9)\n"
          ]
        }
      ]
    }
  ]
}